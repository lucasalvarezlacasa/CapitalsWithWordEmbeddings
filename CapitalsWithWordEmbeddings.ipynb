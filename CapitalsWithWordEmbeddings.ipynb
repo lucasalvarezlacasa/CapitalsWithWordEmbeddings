{
 "cells": [
  {
   "cell_type": "markdown",
   "metadata": {},
   "source": [
    "# Capitals with word embeddings\n",
    "The objective of this small POC is to explain how you can use word embeddings in order to predict relationships between words. In this case, we will try to predict countries that correspond to certain capitals.\n",
    "\n",
    "In natural language processing, we represent each word as a vector consisting of numbers. The vector encodes the meaning of the word. These numbers (or weights) for each word are learned using various machine learning models (like word2vec or Continous Bag of Words), which I won't cover in this small example. We will instead download the trained embeddings and use them to analyze our words."
   ]
  },
  {
   "cell_type": "markdown",
   "metadata": {},
   "source": [
    "## Downloading the word embedding from Google\n",
    "Since the original Google news word embedding dataset is about 3.64 gigabytes, I've downloaded the full dataset, extracted a sample of the words that we're going to analyze in this example, and saved it in a pickle file called word_embeddings_capitals.p (included in the repo).\n",
    "\n",
    "If you have a computer that's powerful enough to handle all this information, you can search in https://code.google.com/archive/p/word2vec/ for 'GoogleNews-vectors-negative300.bin.gz' and click the link to download the entire embedding of words. The rest of the code shown here will be useful as well.\n",
    "\n",
    "Let's start with it:"
   ]
  },
  {
   "cell_type": "code",
   "execution_count": 23,
   "metadata": {},
   "outputs": [
    {
     "name": "stdout",
     "output_type": "stream",
     "text": [
      "Number of words in our embedding: 243\n",
      "Shape of each vector contained in the embedding:(300,)\n",
      "Words for which we have embeddings: dict_keys(['country', 'city', 'China', 'Iraq', 'oil', 'town', 'Canada', 'London', 'England', 'Australia', 'Japan', 'Pakistan', 'Iran', 'gas', 'happy', 'Russia', 'Afghanistan', 'France', 'Germany', 'Georgia', 'Baghdad', 'village', 'Spain', 'Italy', 'Beijing', 'Jordan', 'Paris', 'Ireland', 'Turkey', 'Egypt', 'Lebanon', 'Taiwan', 'Tokyo', 'Nigeria', 'Vietnam', 'Moscow', 'Greece', 'Indonesia', 'sad', 'Syria', 'Thailand', 'Libya', 'Zimbabwe', 'Cuba', 'Ottawa', 'Tehran', 'Sudan', 'Kenya', 'Philippines', 'Sweden', 'Poland', 'Ukraine', 'Rome', 'Venezuela', 'Switzerland', 'Berlin', 'Bangladesh', 'Portugal', 'Ghana', 'Athens', 'king', 'Madrid', 'Somalia', 'Dublin', 'Qatar', 'Chile', 'Islamabad', 'Bahrain', 'Nepal', 'Norway', 'Serbia', 'Kabul', 'continent', 'Brussels', 'Belgium', 'Uganda', 'petroleum', 'Cairo', 'Denmark', 'Austria', 'Jamaica', 'Georgetown', 'Bangkok', 'Finland', 'Peru', 'Romania', 'Bulgaria', 'Hungary', 'Vienna', 'Kingston', 'Manila', 'Cyprus', 'Azerbaijan', 'Copenhagen', 'Fiji', 'Tunisia', 'Kazakhstan', 'queen', 'Beirut', 'Jakarta', 'Croatia', 'Belarus', 'Algeria', 'Malta', 'Morocco', 'Rwanda', 'Bahamas', 'Damascus', 'Ecuador', 'Angola', 'Canberra', 'Liberia', 'Honduras', 'Tripoli', 'Slovakia', 'Doha', 'Armenia', 'Taipei', 'Oman', 'Nairobi', 'Santiago', 'Guinea', 'Uruguay', 'Stockholm', 'Slovenia', 'Zambia', 'Havana', 'Uzbekistan', 'Belgrade', 'Mogadishu', 'Khartoum', 'Botswana', 'Kyrgyzstan', 'Dhaka', 'Namibia', 'Ankara', 'Abuja', 'Lima', 'Harare', 'Warsaw', 'Malawi', 'Lisbon', 'Latvia', 'Niger', 'Lithuania', 'Estonia', 'Samoa', 'Oslo', 'Nicaragua', 'Hanoi', 'Sofia', 'Macedonia', 'Senegal', 'Mozambique', 'Guyana', 'Mali', 'Accra', 'Kathmandu', 'Tbilisi', 'Helsinki', 'Montenegro', 'Caracas', 'Laos', 'Budapest', 'Kiev', 'Turkmenistan', 'Eritrea', 'Albania', 'Madagascar', 'Nassau', 'Kampala', 'Amman', 'Greenland', 'Belize', 'Moldova', 'Burundi', 'Tajikistan', 'Baku', 'Astana', 'Gambia', 'Bucharest', 'joyful', 'Monrovia', 'Mauritania', 'Algiers', 'Muscat', 'Bern', 'Luanda', 'Dakar', 'Tunis', 'Gabon', 'Minsk', 'Liechtenstein', 'Suva', 'Yerevan', 'Zagreb', 'Bishkek', 'Manama', 'Kigali', 'Riga', 'Lusaka', 'Tashkent', 'Nicosia', 'Valletta', 'Windhoek', 'Dominica', 'Quito', 'Tallinn', 'Bratislava', 'Tegucigalpa', 'Skopje', 'Gaborone', 'Rabat', 'Maputo', 'Suriname', 'Vilnius', 'Montevideo', 'Ljubljana', 'Tirana', 'Dushanbe', 'Ashgabat', 'Asmara', 'Tuvalu', 'Managua', 'Conakry', 'Banjul', 'Bamako', 'Lilongwe', 'Vientiane', 'Chisinau', 'Roseau', 'Nouakchott', 'Podgorica', 'Niamey', 'Bujumbura', 'Apia', 'Antananarivo', 'Libreville', 'Belmopan', 'Vaduz', 'Paramaribo', 'Nuuk', 'Funafuti'])\n"
     ]
    }
   ],
   "source": [
    "# Some classic imports\n",
    "import pickle\n",
    "import numpy as np\n",
    "import pandas as pd\n",
    "import matplotlib.pyplot as plt\n",
    "\n",
    "# Reading the embeddings file\n",
    "word_embeddings = pickle.load(open(\"word_embeddings_subset.p\", \"rb\"))\n",
    "print(f\"Number of words in our embedding: {len(word_embeddings)}\")\n",
    "# There are only 243 words considered from the whole embeddings file provided by Google.\n",
    "# The vector created for each word is based on all the information gathered in news.\n",
    "\n",
    "# This is a dictionary, in where the key is the word and the value is \n",
    "# a 300th dimension vector containing the word representation\n",
    "print(\"Shape of each vector contained in the embedding:\" +\n",
    "       f\"{word_embeddings[next(iter(word_embeddings))].shape}\")\n",
    "\n",
    "# Print out all of the words for which we have embeddings\n",
    "print(f\"Words for which we have embeddings: {word_embeddings.keys()}\")"
   ]
  },
  {
   "cell_type": "markdown",
   "metadata": {},
   "source": [
    "## Predicting relationship between words\n",
    "\n",
    "Let's now write down a function to predict the relationship between words. Some details about it:\n",
    "* The function will take as input three words.\n",
    "* The first two are related to each other.\n",
    "* It will predict a 4th word which is related to the third word in a similar manner as the two first words are related to each other.\n",
    "* As an example, \"Madrid is to Spain as Athens is to ______\"?\n",
    "\n",
    "Assuming that we have a vector representation of a word, how do we get vectors that are close to each other? For this, we have the Cosine Similarity and the Euclidean distance, as algebraic parameters that will us this information."
   ]
  },
  {
   "cell_type": "markdown",
   "metadata": {},
   "source": [
    "### 1) Cosine Similarity\n",
    "\n",
    "The cosine similarity function is:\n",
    "\n",
    "$$\\cos (\\theta)=\\frac{\\mathbf{A} \\cdot \\mathbf{B}}{\\|\\mathbf{A}\\|\\|\\mathbf{B}\\|}=\\frac{\\sum_{i=1}^{n} A_{i} B_{i}}{\\sqrt{\\sum_{i=1}^{n} A_{i}^{2}} \\sqrt{\\sum_{i=1}^{n} B_{i}^{2}}}\\tag{1}$$\n",
    "\n",
    "$A$ and $B$ represent the word vectors and $A_i$ or $B_i$ represent index i of that vector.\n",
    "Note that if A and B are identical, you will get $cos(\\theta) = 1$.\n",
    "* Otherwise, if they are the total opposite, meaning, $A= -B$, then you would get $cos(\\theta) = -1$.\n",
    "* If you get $cos(\\theta) =0$, that means that they are orthogonal (or perpendicular).\n",
    "* Numbers between 0 and 1 indicate a similarity score.\n",
    "* Numbers between -1-0 indicate a dissimilarity score."
   ]
  },
  {
   "cell_type": "code",
   "execution_count": 16,
   "metadata": {},
   "outputs": [],
   "source": [
    "def cosine_similarity(v1,v2):\n",
    "    '''\n",
    "    Input:\n",
    "        v1: a numpy array which corresponds to a word vector\n",
    "        v2: A numpy array which corresponds to a word vector\n",
    "    Output:\n",
    "        cos: numerical number representing the cosine similarity between A and B.\n",
    "    '''\n",
    "    dot_product = np.dot(v1,v2)\n",
    "    norm_product = np.linalg.norm(v1)*np.linalg.norm(v2)\n",
    "    return dot_product/norm_product"
   ]
  },
  {
   "cell_type": "code",
   "execution_count": 24,
   "metadata": {},
   "outputs": [
    {
     "name": "stdout",
     "output_type": "stream",
     "text": [
      "Cosine similarity for identical vectors: 1.0000000000000002\n",
      "Cosine similarity for opposite vectors: -1.0000000000000002\n",
      "Cosine similarity for orthogonal vectors: 0.0\n"
     ]
    }
   ],
   "source": [
    "# Let's try some examples\n",
    "v1 = np.array([1,1,2])\n",
    "v2 = np.array([1,1,2])\n",
    "\n",
    "print(f\"Cosine similarity for identical vectors: {cosine_similarity(v1,v2)}\")\n",
    "\n",
    "v2 = np.array([-1,-1,-2])\n",
    "\n",
    "print(f\"Cosine similarity for opposite vectors: {cosine_similarity(v1,v2)}\")\n",
    "\n",
    "v2 = np.array([1,-1,0])\n",
    "\n",
    "print(f\"Cosine similarity for orthogonal vectors: {cosine_similarity(v1,v2)}\")\n"
   ]
  },
  {
   "cell_type": "markdown",
   "metadata": {},
   "source": [
    "If you don't want to implement this formula, there's a library that will give you the cosine distance (which is 1-cosine_similarity) right away."
   ]
  },
  {
   "cell_type": "code",
   "execution_count": 22,
   "metadata": {},
   "outputs": [
    {
     "name": "stdout",
     "output_type": "stream",
     "text": [
      "Cosine similarity for orthogonal vectors: 0.0\n"
     ]
    }
   ],
   "source": [
    "from scipy.spatial.distance import cosine\n",
    "print(f\"Cosine similarity for orthogonal vectors: {1 - cosine(v1,v2)}\")"
   ]
  },
  {
   "cell_type": "markdown",
   "metadata": {},
   "source": [
    "Let's calculate the similarity between the embeddings of some of our 243 words:"
   ]
  },
  {
   "cell_type": "code",
   "execution_count": 26,
   "metadata": {},
   "outputs": [
    {
     "name": "stdout",
     "output_type": "stream",
     "text": [
      "Cosine similarity for 'country' and 'city': 0.3229880630970001\n",
      "Cosine similarity for 'queen' and 'king': 0.6510956883430481\n"
     ]
    }
   ],
   "source": [
    "country = word_embeddings[\"country\"]\n",
    "city = word_embeddings[\"city\"]\n",
    "\n",
    "queen = word_embeddings[\"queen\"]\n",
    "king = word_embeddings[\"king\"]\n",
    "\n",
    "print(f\"Cosine similarity for 'country' and 'city': {cosine_similarity(country,city)}\")\n",
    "print(f\"Cosine similarity for 'queen' and 'king': {cosine_similarity(queen,king)}\")"
   ]
  },
  {
   "cell_type": "markdown",
   "metadata": {},
   "source": [
    "### 2) Euclidean distance\n",
    "\n",
    "There's another way to compute the similarity between two vectors using the Euclidean distance.\n",
    "Euclidean distance is defined as:\n",
    "\n",
    "$$ \\begin{aligned} d(\\mathbf{A}, \\mathbf{B})=d(\\mathbf{B}, \\mathbf{A}) &=\\sqrt{\\left(A_{1}-B_{1}\\right)^{2}+\\left(A_{2}-B_{2}\\right)^{2}+\\cdots+\\left(A_{n}-B_{n}\\right)^{2}} \\\\ &=\\sqrt{\\sum_{i=1}^{n}\\left(A_{i}-B_{i}\\right)^{2}} \\end{aligned}$$\n",
    "\n",
    "* $n$ is the number of elements in the vector\n",
    "* $A$ and $B$ are the corresponding word vectors. \n",
    "* The more similar the words, the more likely the Euclidean distance will be close to 0. "
   ]
  },
  {
   "cell_type": "code",
   "execution_count": 27,
   "metadata": {},
   "outputs": [],
   "source": [
    "def euclidean_distance(v1,v2):\n",
    "    '''\n",
    "    Input:\n",
    "        v1: a numpy array which corresponds to a word vector\n",
    "        v2: A numpy array which corresponds to a word vector\n",
    "    Output:\n",
    "        d: numerical number representing the Euclidean distance between v1 and v2.\n",
    "    '''\n",
    "    difference = v1 - v2\n",
    "    return np.linalg.norm(difference)"
   ]
  },
  {
   "cell_type": "code",
   "execution_count": 28,
   "metadata": {},
   "outputs": [
    {
     "name": "stdout",
     "output_type": "stream",
     "text": [
      "Euclidean distance for 'country' and 'city': 2.515118360519409\n",
      "Euclidean distance for 'queen' and 'king': 2.4796924591064453\n"
     ]
    }
   ],
   "source": [
    "print(f\"Euclidean distance for 'country' and 'city': {euclidean_distance(country,city)}\")\n",
    "print(f\"Euclidean distance for 'queen' and 'king': {euclidean_distance(queen,king)}\")"
   ]
  },
  {
   "attachments": {
    "image.png": {
     "image/png": "[encoded data removed]"
    }
   },
   "cell_type": "markdown",
   "metadata": {},
   "source": [
    "### When to use Cosine Similarity?\n",
    "This is a visual representation of euclidean distance (d) and cosine similarity (θ). While cosine looks at the angle between vectors (thus not taking into regard their weight or magnitude), euclidean distance is similar to using a ruler to actually measure the distance.\n",
    "\n",
    "![image.png](attachment:image.png)\n",
    "\n",
    "Cosine similarity is generally used as a metric for measuring distance when the magnitude of the vectors does not matter. This happens for example when working with text data represented by word counts. We could assume that when a word (e.g. science) occurs more frequent in document 1 than it does in document 2, that document 1 is more related to the topic of science. However, it could also be the case that we are working with documents of uneven lengths (Wikipedia articles for example). Then, science probably occurred more in document 1 just because it was way longer than document 2. Cosine similarity corrects for this.\n",
    "\n",
    "Text data is the most typical example for when to use this metric. However, you might also want to apply cosine similarity for other cases where some properties of the instances make so that the weights might be larger without meaning anything different. Sensor values that were captured in various lengths (in time) between instances could be such an example."
   ]
  },
  {
   "attachments": {},
   "cell_type": "markdown",
   "metadata": {},
   "source": [
    "## Finding the country for each capital\n",
    "Now that we have a way to compare each of the embeddings, let's create a function that will receive three words and it will try to predict the missing country in that relationship.\n",
    "\n",
    "For example, if it receives: Madrid, Spain and Baghdad, it should return Iraq.\n",
    "As you can imagine, we will use the vector representation of these words and we can treat them mathematically to obtain what we're looking for: <b>Spain - Madrid + Baghdad = Iraq</b>\n",
    "\n",
    "For the function we will implement, the representation that we will get about Iraq won't exactly exist in our word_embeddings dictonary. We will find the vector with the maximum cosine similarity to the one we obtain and this one will give us the country we're looking for."
   ]
  },
  {
   "cell_type": "code",
   "execution_count": 101,
   "metadata": {},
   "outputs": [],
   "source": [
    "def predict_country(city1, country1, city2, word_embeddings):\n",
    "    \"\"\"\n",
    "    Input:\n",
    "        city1: a string (the capital city of country1)\n",
    "        country1: a string (the country of capital1)\n",
    "        city2: a string (the capital city of country2)\n",
    "        word_embeddings: a dictionary where the keys are words and values are their embeddings\n",
    "    Output:\n",
    "        countries: a tuple with the most likely country and its similarity score\n",
    "    \"\"\"\n",
    "    \n",
    "    # In here we are basically saying: Country1 is for city1 what Country2 is for City2\n",
    "    v_country2 = word_embeddings[country1] - word_embeddings[city1] + word_embeddings[city2]\n",
    "    \n",
    "    # The lowest bound of the cosine similarity\n",
    "    max_similarity = -1\n",
    "    country2 = ''\n",
    "    \n",
    "    for (word,vector) in word_embeddings.items():\n",
    "        # Ignore words that are being used to create the vector for country2\n",
    "        if word not in set((city1, country1, city2)):\n",
    "            current_similarity = cosine_similarity(v_country2,vector)\n",
    "\n",
    "            # Ignore the vector for the same city2\n",
    "            if(current_similarity>max_similarity):\n",
    "                max_similarity = current_similarity\n",
    "                country2 = word\n",
    "    \n",
    "    return (country2,max_similarity)  "
   ]
  },
  {
   "cell_type": "code",
   "execution_count": 102,
   "metadata": {},
   "outputs": [
    {
     "name": "stdout",
     "output_type": "stream",
     "text": [
      "Athens is for Greece what Cairo is for: ('Egypt', 0.7626821)\n",
      "Madrid is for Spain what London is for: ('England', 0.4657591)\n",
      "Kingston is for Jamaica what Caracas is for: ('Venezuela', 0.7082699)\n"
     ]
    }
   ],
   "source": [
    "# Testing your function, note to make it more robust you can return the 5 most similar words.\n",
    "a = predict_country('Athens', 'Greece', 'Cairo', word_embeddings)\n",
    "print(f\"Athens is for Greece what Cairo is for: {a}\")\n",
    "\n",
    "a = predict_country('Madrid', 'Spain', 'London', word_embeddings)\n",
    "print(f\"Madrid is for Spain what London is for: {a}\")\n",
    "\n",
    "a = predict_country('Kingston', 'Jamaica', 'Caracas', word_embeddings)\n",
    "print(f\"Kingston is for Jamaica what Caracas is for: {a}\")"
   ]
  },
  {
   "cell_type": "markdown",
   "metadata": {},
   "source": [
    "## Model Accuracy\n",
    "\n",
    "Now we will test our new function on the dataset and check the accuracy of the model:\n",
    "\n",
    "$$\\text{Accuracy}=\\frac{\\text{Correct # of predictions}}{\\text{Total # of predictions}}$$\n",
    "\n",
    "For testing this, we have a file that containst the different combinations between countries and cities. It's also included in the repository (capitals.txt)."
   ]
  },
  {
   "cell_type": "code",
   "execution_count": 103,
   "metadata": {},
   "outputs": [
    {
     "data": {
      "text/html": [
       "<div>\n",
       "<style scoped>\n",
       "    .dataframe tbody tr th:only-of-type {\n",
       "        vertical-align: middle;\n",
       "    }\n",
       "\n",
       "    .dataframe tbody tr th {\n",
       "        vertical-align: top;\n",
       "    }\n",
       "\n",
       "    .dataframe thead th {\n",
       "        text-align: right;\n",
       "    }\n",
       "</style>\n",
       "<table border=\"1\" class=\"dataframe\">\n",
       "  <thead>\n",
       "    <tr style=\"text-align: right;\">\n",
       "      <th></th>\n",
       "      <th>city1</th>\n",
       "      <th>country1</th>\n",
       "      <th>city2</th>\n",
       "      <th>country2</th>\n",
       "    </tr>\n",
       "  </thead>\n",
       "  <tbody>\n",
       "    <tr>\n",
       "      <th>0</th>\n",
       "      <td>Athens</td>\n",
       "      <td>Greece</td>\n",
       "      <td>Baghdad</td>\n",
       "      <td>Iraq</td>\n",
       "    </tr>\n",
       "    <tr>\n",
       "      <th>1</th>\n",
       "      <td>Athens</td>\n",
       "      <td>Greece</td>\n",
       "      <td>Bangkok</td>\n",
       "      <td>Thailand</td>\n",
       "    </tr>\n",
       "    <tr>\n",
       "      <th>2</th>\n",
       "      <td>Athens</td>\n",
       "      <td>Greece</td>\n",
       "      <td>Beijing</td>\n",
       "      <td>China</td>\n",
       "    </tr>\n",
       "    <tr>\n",
       "      <th>3</th>\n",
       "      <td>Athens</td>\n",
       "      <td>Greece</td>\n",
       "      <td>Berlin</td>\n",
       "      <td>Germany</td>\n",
       "    </tr>\n",
       "    <tr>\n",
       "      <th>4</th>\n",
       "      <td>Athens</td>\n",
       "      <td>Greece</td>\n",
       "      <td>Bern</td>\n",
       "      <td>Switzerland</td>\n",
       "    </tr>\n",
       "  </tbody>\n",
       "</table>\n",
       "</div>"
      ],
      "text/plain": [
       "    city1 country1    city2     country2\n",
       "0  Athens   Greece  Baghdad         Iraq\n",
       "1  Athens   Greece  Bangkok     Thailand\n",
       "2  Athens   Greece  Beijing        China\n",
       "3  Athens   Greece   Berlin      Germany\n",
       "4  Athens   Greece     Bern  Switzerland"
      ]
     },
     "execution_count": 103,
     "metadata": {},
     "output_type": "execute_result"
    }
   ],
   "source": [
    "capitals_df = pd.read_csv(\"capitals.txt\", sep=\" \", header=None)\n",
    "capitals_df.columns = ['city1', 'country1', 'city2', 'country2']\n",
    "capitals_df.head()"
   ]
  },
  {
   "cell_type": "code",
   "execution_count": 104,
   "metadata": {},
   "outputs": [],
   "source": [
    "def get_accuracy(word_embeddings, capitals_df):\n",
    "    '''\n",
    "    Input:\n",
    "        word_embeddings: a dictionary where the key is a word and the value is its embedding\n",
    "        data: a pandas dataframe containing all the country and capital city pairs\n",
    "    \n",
    "    Output:\n",
    "        accuracy: the accuracy of the model\n",
    "    '''\n",
    "    \n",
    "    correct_predictions = 0\n",
    "    # Get the amount of rows, which is basically the total amount of predictions we'll do\n",
    "    total_predictions = len(capitals_df)\n",
    "    \n",
    "    # We just need to iterate on the pandas dataframe and compare the results we get\n",
    "    # by calling our function with the real ones\n",
    "    for _,row in capitals_df.iterrows():\n",
    "        # Compute the function. This returns a tuple\n",
    "        predicted_country,_ = predict_country(row['city1'],row['country1'],row['city2'],word_embeddings)\n",
    "        \n",
    "        if predicted_country == row['country2']:\n",
    "            correct_predictions += 1\n",
    "        \n",
    "    return correct_predictions/total_predictions"
   ]
  },
  {
   "cell_type": "code",
   "execution_count": 105,
   "metadata": {},
   "outputs": [
    {
     "name": "stdout",
     "output_type": "stream",
     "text": [
      "Accuracy of our model: 0.92\n"
     ]
    }
   ],
   "source": [
    "# Let's call the function and see what's the accuracy we get\n",
    "print(f\"Accuracy of our model: {get_accuracy(word_embeddings,capitals_df):.2f}\")"
   ]
  },
  {
   "cell_type": "markdown",
   "metadata": {},
   "source": [
    "## Dimensionality reduction: PCA\n",
    "Now we will explore the distance between word vectors after reducing their dimension.\n",
    "The technique we will employ is known as\n",
    "[*principal component analysis* (PCA)](https://en.wikipedia.org/wiki/Principal_component_analysis).\n",
    "As we saw, we are working in a 300-dimensional space in this case.\n",
    "Although from a computational perspective we were able to perform a good job,\n",
    "it is impossible to visualize results in such high dimensional spaces.\n",
    "\n",
    "You can think of PCA as a method that projects our vectors in a space of reduced\n",
    "dimension (in our case 2), while keeping the maximum information about the original vectors in\n",
    "their reduced counterparts. In this case, by *maximum infomation* we mean that the\n",
    "Euclidean distance between the original vectors and their projected siblings is\n",
    "minimal. Hence vectors that were originally close in the embeddings dictionary,\n",
    "will produce lower dimensional vectors that are still close to each other.\n",
    "\n",
    "When you map out the words, similar words will be clustered\n",
    "next to each other. For example, the words 'sad', 'happy', 'joyful' all describe\n",
    "emotion and are supposed to be near each other when plotted.\n",
    "\n",
    "In this case, I won't dive much in the implementation of PCA, I will rely on scikit learn to solve this for us."
   ]
  },
  {
   "cell_type": "code",
   "execution_count": 134,
   "metadata": {},
   "outputs": [],
   "source": [
    "# This method will take the dictionary with the embeddings and the words we're looking for\n",
    "# and return a matrix with all the embeddings.\n",
    "def get_matrix(word_embeddings,words):\n",
    "    embeddings_dimension = word_embeddings[next(iter(word_embeddings))].shape[0]\n",
    "    matrix = np.zeros((len(words),embeddings_dimension))\n",
    "\n",
    "    counter = 0\n",
    "    for word in words:\n",
    "        embedding = word_embeddings.get(word,np.zeros((1,embeddings_dimension)))\n",
    "        matrix[counter] = embedding\n",
    "        counter+=1\n",
    "    \n",
    "    return matrix"
   ]
  },
  {
   "cell_type": "code",
   "execution_count": 153,
   "metadata": {},
   "outputs": [
    {
     "name": "stdout",
     "output_type": "stream",
     "text": [
      "         PC1       PC2       Word\n",
      "0   2.074031  0.226565        oil\n",
      "1   1.844124  0.038569        gas\n",
      "2  -1.019730  1.268881      happy\n",
      "3  -1.175787  1.760764        sad\n",
      "4  -0.601780 -1.093241       city\n",
      "5  -0.855811 -1.296162       town\n",
      "6  -0.990526 -1.612222    village\n",
      "7  -0.318020 -0.415334    country\n",
      "8  -0.210693 -0.575926  continent\n",
      "9   2.313584  0.297835  petroleum\n",
      "10 -1.059390  1.400269     joyful\n"
     ]
    }
   ],
   "source": [
    "from sklearn.decomposition import PCA\n",
    "\n",
    "# Let's take out some words from our word embedding\n",
    "words = ['oil', 'gas', 'happy', 'sad', 'city', 'town',\n",
    "         'village', 'country', 'continent', 'petroleum', 'joyful']\n",
    "matrix = get_matrix(word_embeddings, words)\n",
    "\n",
    "# Implement PCA\n",
    "pca = PCA(n_components=2)\n",
    "principalComponents = pca.fit_transform(matrix)\n",
    "principalDf = pd.DataFrame(data = principalComponents,columns=['PC1', 'PC2'])\n",
    "\n",
    "# Let's add the words to every row so we can see the representation for each one of them\n",
    "words_df = pd.DataFrame(words)\n",
    "words_df.columns = [\"Word\"]\n",
    "finalDf = pd.concat([principalDf, words_df], axis=1)\n",
    "print(finalDf)"
   ]
  },
  {
   "cell_type": "code",
   "execution_count": 155,
   "metadata": {},
   "outputs": [],
   "source": [
    "# TO continue in the future, pending to plot this info"
   ]
  },
  {
   "cell_type": "code",
   "execution_count": null,
   "metadata": {},
   "outputs": [],
   "source": []
  },
  {
   "cell_type": "code",
   "execution_count": null,
   "metadata": {},
   "outputs": [],
   "source": []
  },
  {
   "cell_type": "code",
   "execution_count": null,
   "metadata": {},
   "outputs": [],
   "source": []
  },
  {
   "cell_type": "code",
   "execution_count": null,
   "metadata": {},
   "outputs": [],
   "source": []
  }
 ],
 "metadata": {
  "kernelspec": {
   "display_name": "Python 3",
   "language": "python",
   "name": "python3"
  },
  "language_info": {
   "codemirror_mode": {
    "name": "ipython",
    "version": 3
   },
   "file_extension": ".py",
   "mimetype": "text/x-python",
   "name": "python",
   "nbconvert_exporter": "python",
   "pygments_lexer": "ipython3",
   "version": "3.7.6"
  }
 },
 "nbformat": 4,
 "nbformat_minor": 4
}
